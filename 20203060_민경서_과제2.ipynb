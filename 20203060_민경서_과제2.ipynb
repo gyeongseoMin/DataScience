{
  "nbformat": 4,
  "nbformat_minor": 0,
  "metadata": {
    "colab": {
      "name": "20203060_민경서_과제2.ipynb",
      "provenance": [],
      "authorship_tag": "ABX9TyP5wpqlBauEEvDT/8pkCnlJ",
      "include_colab_link": true
    },
    "kernelspec": {
      "name": "python3",
      "display_name": "Python 3"
    },
    "language_info": {
      "name": "python"
    }
  },
  "cells": [
    {
      "cell_type": "markdown",
      "metadata": {
        "id": "view-in-github",
        "colab_type": "text"
      },
      "source": [
        "<a href=\"https://colab.research.google.com/github/gyeongseoMin/DataScience/blob/main/20203060_%EB%AF%BC%EA%B2%BD%EC%84%9C_%EA%B3%BC%EC%A0%9C2.ipynb\" target=\"_parent\"><img src=\"https://colab.research.google.com/assets/colab-badge.svg\" alt=\"Open In Colab\"/></a>"
      ]
    },
    {
      "cell_type": "code",
      "metadata": {
        "colab": {
          "base_uri": "https://localhost:8080/"
        },
        "id": "W6SKqh7DXqcP",
        "outputId": "0a6deff5-a60c-47ce-f307-66c4d78f1584"
      },
      "source": [
        "import torch\n",
        "x_train = torch.FloatTensor([[1],[2],[3],[4],[5],[2.5],[3.5],[0],[3.1],[2.7],[2.8],[2.9]])\n",
        "y_train = torch.FloatTensor([[1],[1],[1],[0],[0],[0],[0],[1],[0],[1],[1],[1]])\n",
        "\n",
        "W = torch.zeros(1,1)\n",
        "b = torch.zeros(1,1)\n",
        "lr = 1.0\n",
        "\n",
        "for epoch in range(3001):\n",
        "    W.requires_grad_(True)\n",
        "    b.requires_grad_(True)\n",
        "\n",
        "    hypothesis = torch.sigmoid(torch.mm(x_train, W) + b)\n",
        "    cost = torch.mean(-y_train * torch.log(hypothesis) - (1 - y_train) * torch.log(1 - hypothesis))\n",
        "\n",
        "    cost.backward()\n",
        "    with torch.no_grad() as grd:\n",
        "        W = W - lr * W.grad\n",
        "        b = b - lr * b.grad\n",
        "\n",
        "    if epoch % 300 == 0:\n",
        "        print( 'epoch: {}, cost: {:.6f}, W: {:.6f}, b: {:.6f}'.format(epoch, cost.item(), W.squeeze(), b.squeeze()))"
      ],
      "execution_count": null,
      "outputs": [
        {
          "output_type": "stream",
          "name": "stdout",
          "text": [
            "epoch: 0, cost: 0.693147, W: -0.154167, b: 0.083333\n",
            "epoch: 300, cost: 0.390820, W: -2.174322, b: 6.609553\n",
            "epoch: 600, cost: 0.383699, W: -2.620779, b: 7.953164\n",
            "epoch: 900, cost: 0.382149, W: -2.832521, b: 8.587363\n",
            "epoch: 1200, cost: 0.381706, W: -2.946401, b: 8.927779\n",
            "epoch: 1500, cost: 0.381565, W: -3.010968, b: 9.120598\n",
            "epoch: 1800, cost: 0.381517, W: -3.048561, b: 9.232802\n",
            "epoch: 2100, cost: 0.381500, W: -3.070765, b: 9.299053\n",
            "epoch: 2400, cost: 0.381494, W: -3.083991, b: 9.338510\n",
            "epoch: 2700, cost: 0.381492, W: -3.091908, b: 9.362126\n",
            "epoch: 3000, cost: 0.381491, W: -3.096662, b: 9.376306\n"
          ]
        }
      ]
    },
    {
      "cell_type": "code",
      "metadata": {
        "id": "bkg16-U3YGwP",
        "colab": {
          "base_uri": "https://localhost:8080/"
        },
        "outputId": "896bab47-c369-4182-e207-b0e68efd364c"
      },
      "source": [
        "x_test = torch.FloatTensor([[4.5],[1.1]])\n",
        "test_result = torch.sigmoid(torch.mm(x_test, W) + b)\n",
        "print(torch.round(test_result))"
      ],
      "execution_count": null,
      "outputs": [
        {
          "output_type": "stream",
          "name": "stdout",
          "text": [
            "tensor([[0.],\n",
            "        [1.]])\n"
          ]
        }
      ]
    },
    {
      "cell_type": "code",
      "metadata": {
        "colab": {
          "base_uri": "https://localhost:8080/"
        },
        "id": "znpqY7pJrfXn",
        "outputId": "6ce27913-e1b0-466b-d51d-747dd9652611"
      },
      "source": [
        "#optimzer 사용하기\n",
        "import torch\n",
        "x_train = torch.FloatTensor([[1],[2],[3],[4],[5],[2.5],[3.5],[0],[3.1],[2.7],[2.8],[2.9]])\n",
        "y_train = torch.FloatTensor([[1],[1],[1],[0],[0],[0],[0],[1],[0],[1],[1],[1]])\n",
        "\n",
        "W = torch.zeros(1,1)\n",
        "b = torch.zeros(1,1)\n",
        "lr = 1.0\n",
        "\n",
        "for epoch in range(3001):\n",
        "    W.requires_grad_(True)\n",
        "    b.requires_grad_(True)\n",
        "\n",
        "    hypothesis = torch.sigmoid(torch.mm(x_train, W) + b)\n",
        "    cost = torch.mean(-y_train * torch.log(hypothesis) - (1 - y_train) * torch.log(1 - hypothesis))\n",
        "\n",
        "    \n",
        "    optimizer = torch.optim.SGD([W,b], lr=1.0)\n",
        "    optimizer.zero_grad()\n",
        "    cost.backward()\n",
        "    optimizer.step()\n",
        "\n",
        "    optimizer = torch.optim.SGD([W,b], lr=1.0)\n",
        "    optimizer = torch.optim.Adam([W,b], lr=1.0)\n",
        "    optimizer = torch.optim.Adadelta([W,b])\n",
        "    optimizer = torch.optim.Adagrad([W,b])\n",
        "    optimizer = torch.optim.RMSprop([W,b])\n",
        "    if epoch % 100 == 0:\n",
        "        print( 'epoch: {}, cost: {:.6f}, W: {:.6f}, b: {:.6f}'.format(epoch, cost.item(), W.squeeze(), b.squeeze()))\n"
      ],
      "execution_count": null,
      "outputs": [
        {
          "output_type": "stream",
          "name": "stdout",
          "text": [
            "epoch: 0, cost: 0.693147, W: -0.154167, b: 0.083333\n",
            "epoch: 100, cost: 0.420221, W: -1.451281, b: 4.406925\n",
            "epoch: 200, cost: 0.398721, W: -1.898433, b: 5.773750\n",
            "epoch: 300, cost: 0.390820, W: -2.174322, b: 6.609553\n",
            "epoch: 400, cost: 0.387009, W: -2.367329, b: 7.191599\n",
            "epoch: 500, cost: 0.384924, W: -2.510626, b: 7.622530\n",
            "epoch: 600, cost: 0.383699, W: -2.620779, b: 7.953164\n",
            "epoch: 700, cost: 0.382944, W: -2.707397, b: 8.212804\n",
            "epoch: 800, cost: 0.382463, W: -2.776597, b: 8.420023\n",
            "epoch: 900, cost: 0.382149, W: -2.832521, b: 8.587363\n",
            "epoch: 1000, cost: 0.381941, W: -2.878112, b: 8.723699\n",
            "epoch: 1100, cost: 0.381801, W: -2.915530, b: 8.835541\n",
            "epoch: 1200, cost: 0.381706, W: -2.946401, b: 8.927779\n",
            "epoch: 1300, cost: 0.381641, W: -2.971979, b: 9.004180\n",
            "epoch: 1400, cost: 0.381596, W: -2.993242, b: 9.067673\n",
            "epoch: 1500, cost: 0.381565, W: -3.010968, b: 9.120598\n",
            "epoch: 1600, cost: 0.381543, W: -3.025776, b: 9.164800\n",
            "epoch: 1700, cost: 0.381528, W: -3.038172, b: 9.201797\n",
            "epoch: 1800, cost: 0.381517, W: -3.048561, b: 9.232802\n",
            "epoch: 1900, cost: 0.381509, W: -3.057279, b: 9.258815\n",
            "epoch: 2000, cost: 0.381504, W: -3.064605, b: 9.280675\n",
            "epoch: 2100, cost: 0.381500, W: -3.070765, b: 9.299053\n",
            "epoch: 2200, cost: 0.381497, W: -3.075948, b: 9.314517\n",
            "epoch: 2300, cost: 0.381495, W: -3.080314, b: 9.327539\n",
            "epoch: 2400, cost: 0.381494, W: -3.083991, b: 9.338510\n",
            "epoch: 2500, cost: 0.381493, W: -3.087090, b: 9.347754\n",
            "epoch: 2600, cost: 0.381493, W: -3.089704, b: 9.355551\n",
            "epoch: 2700, cost: 0.381492, W: -3.091908, b: 9.362126\n",
            "epoch: 2800, cost: 0.381492, W: -3.093769, b: 9.367676\n",
            "epoch: 2900, cost: 0.381491, W: -3.095338, b: 9.372355\n",
            "epoch: 3000, cost: 0.381491, W: -3.096662, b: 9.376306\n"
          ]
        }
      ]
    },
    {
      "cell_type": "code",
      "metadata": {
        "colab": {
          "base_uri": "https://localhost:8080/",
          "height": 279
        },
        "id": "9e_7VzTGtEgs",
        "outputId": "3fcadfd9-d178-41c8-d53d-475d5dcf4638"
      },
      "source": [
        "#Matplotlib 으로 결과 시각화 실습\n",
        "import matplotlib.pyplot as plt\n",
        "W.requires_grad_(False)\n",
        "b.requires_grad_(False)\n",
        "plt.scatter(x_train, y_train)\n",
        "X = torch.linspace(0,5,100).unsqueeze(1)\n",
        "Y = torch.sigmoid(torch.mm(X,W)+b)\n",
        "plt.plot(X,Y)\n",
        "plt.ylabel(\"Probability of 1 (Y)\")\n",
        "plt.xlabel(\"Input (X)\")\n",
        "plt.show()\n"
      ],
      "execution_count": null,
      "outputs": [
        {
          "output_type": "display_data",
          "data": {
            "image/png": "[encoded data removed]",
            "text/plain": [
              "<Figure size 432x288 with 1 Axes>"
            ]
          },
          "metadata": {
            "needs_background": "light"
          }
        }
      ]
    },
    {
      "cell_type": "code",
      "metadata": {
        "colab": {
          "base_uri": "https://localhost:8080/",
          "height": 279
        },
        "id": "4yeuy5-4vLzs",
        "outputId": "68d9ef80-cfde-483c-f40d-c46b827aff0b"
      },
      "source": [
        "#Matplotlib 으로 결과 시각화 실습\n",
        "import matplotlib.pyplot as plt\n",
        "W.requires_grad_(False)\n",
        "b.requires_grad_(False)\n",
        "plt.scatter(x_train, y_train, c=\"black\")\n",
        "X = torch.linspace(0,5,100).unsqueeze(1)\n",
        "Y = torch.sigmoid(torch.mm(X,W)+b)\n",
        "plt.plot(X,Y, c=\"#ff0000\")\n",
        "plt.ylabel(\"Probability of 1 (Y)\")\n",
        "plt.xlabel(\"Input (X)\")\n",
        "plt.show()"
      ],
      "execution_count": null,
      "outputs": [
        {
          "output_type": "display_data",
          "data": {
            "image/png": "[encoded data removed]",
            "text/plain": [
              "<Figure size 432x288 with 1 Axes>"
            ]
          },
          "metadata": {
            "needs_background": "light"
          }
        }
      ]
    },
    {
      "cell_type": "code",
      "metadata": {
        "colab": {
          "base_uri": "https://localhost:8080/",
          "height": 279
        },
        "id": "0ROv2LgMvOHu",
        "outputId": "6b6c312c-ca67-4fa4-c63c-024f200961f4"
      },
      "source": [
        "#Matplotlib 으로 결과 시각화 실습\n",
        "import matplotlib.pyplot as plt\n",
        "W.requires_grad_(False)\n",
        "b.requires_grad_(False)\n",
        "plt.scatter(x_train, y_train, c=\"black\", label=\"Training data\")\n",
        "X = torch.linspace(0,5,100).unsqueeze(1)\n",
        "Y = torch.sigmoid(torch.mm(X,W)+b)\n",
        "plt.plot(X,Y, c=\"#ff0000\", label=\"Fitting line\")\n",
        "plt.legend()\n",
        "plt.ylabel(\"Probability of 1 (Y)\")\n",
        "plt.xlabel(\"Input (X)\")\n",
        "plt.show()"
      ],
      "execution_count": null,
      "outputs": [
        {
          "output_type": "display_data",
          "data": {
            "image/png": "[encoded data removed]",
            "text/plain": [
              "<Figure size 432x288 with 1 Axes>"
            ]
          },
          "metadata": {
            "needs_background": "light"
          }
        }
      ]
    },
    {
      "cell_type": "code",
      "metadata": {
        "colab": {
          "base_uri": "https://localhost:8080/"
        },
        "id": "VwLQuMQcv3B_",
        "outputId": "ad013752-52a4-4657-f8ee-f4a0a7d5b384"
      },
      "source": [
        "#sklearn에서 logistic regression사용\n",
        "from sklearn.linear_model import LogisticRegression\n",
        "x_train = [[1],[2],[3],[4],[5],[2.5],[3.5],[0],[3.1],[2.7],[2.8],[2.9]]\n",
        "y_train = [1,1,1,0,0,0,0,1,0,1,1,1] # 입력 shape이 pytorch에서와 다름에 주의!\n",
        "model = LogisticRegression(penalty='none') # penalty (or regularization)은 추후 설명\n",
        "model.fit(x_train, y_train)\n",
        "#W와 b에 해당하는 값 출력\n",
        "print(model.coef_, model.intercept_)\n",
        "# 새로운 x값이 주어질 때 y값 예측해보기\n",
        "x_test = [[4.5],[1.1]]\n",
        "test_result = model.predict(x_test)\n",
        "print(test_result)"
      ],
      "execution_count": null,
      "outputs": [
        {
          "output_type": "stream",
          "name": "stdout",
          "text": [
            "[[-3.10385806]] [9.39776831]\n",
            "[0 1]\n"
          ]
        }
      ]
    },
    {
      "cell_type": "code",
      "metadata": {
        "id": "oLyNbsdnwQDH"
      },
      "source": [
        ""
      ],
      "execution_count": null,
      "outputs": []
    }
  ]
}