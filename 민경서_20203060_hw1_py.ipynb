{
  "nbformat": 4,
  "nbformat_minor": 0,
  "metadata": {
    "colab": {
      "name": "민경서_20203060_hw1.py",
      "provenance": [],
      "collapsed_sections": [],
      "authorship_tag": "ABX9TyPbZBub6jrq3CknKpQVjqNH",
      "include_colab_link": true
    },
    "kernelspec": {
      "name": "python3",
      "display_name": "Python 3"
    },
    "language_info": {
      "name": "python"
    }
  },
  "cells": [
    {
      "cell_type": "markdown",
      "metadata": {
        "id": "view-in-github",
        "colab_type": "text"
      },
      "source": [
        "<a href=\"https://colab.research.google.com/github/gyeongseoMin/DataScience/blob/main/%EB%AF%BC%EA%B2%BD%EC%84%9C_20203060_hw1_py.ipynb\" target=\"_parent\"><img src=\"https://colab.research.google.com/assets/colab-badge.svg\" alt=\"Open In Colab\"/></a>"
      ]
    },
    {
      "cell_type": "code",
      "metadata": {
        "id": "4Md6tpelBtRd"
      },
      "source": [
        "class Matrix:\n",
        "    def __init__(self, list):\n",
        "        self.list = list\n",
        "\n",
        "    def __repr__(self):\n",
        "        return f\"Matrix{self.list}\"\n",
        "\n",
        "    def __add__(self, other):\n",
        "        if (len(self.list) == len(other.list) and len(self.list[0]) == len(other.list[0])):\n",
        "            tmp = [[0] * len(self.list[0]) for _ in range(len(self.list))]\n",
        "            for i in range(len(self.list)):\n",
        "                for j in range(len(self.list[0])):\n",
        "                    tmp[i][j] += self.list[i][j] + other.list[i][j]\n",
        "            return Matrix(tmp)\n",
        "        else: \n",
        "            return \"AssertionError\"\n",
        "\n",
        "#행렬의 뺄셈\n",
        "    def __sub__(self, other):\n",
        "        if (len(self.list) == len(other.list) and len(self.list[0]) == len(other.list[0])):\n",
        "            tmp = [[0] * len(self.list[0]) for _ in range(len(self.list))]\n",
        "            #print(self.list)\n",
        "            for i in range(len(self.list)):\n",
        "                for j in range(len(self.list[0])):\n",
        "                    tmp[i][j] += self.list[i][j] - other.list[i][j]\n",
        "            return Matrix(tmp)\n",
        "        else:\n",
        "            return \"AssertionError\"\n",
        "\n",
        "#행렬의 스칼라 곱\n",
        "    def __mul__(self, k):\n",
        "        tmp = [[0] * len(self.list[0]) for _ in range(len(self.list))]\n",
        "        for i in range(len(self.list)):\n",
        "            for j in range(len(self.list[0])):\n",
        "                tmp[i][j] = self.list[i][j] * k\n",
        "        return Matrix(tmp)\n",
        "\n",
        "    def __rmul__(self, k):\n",
        "        tmp = [[0] * len(self.list[0]) for _ in range(len(self.list))]\n",
        "        for i in range(len(self.list)):\n",
        "            for j in range(len(self.list[0])):\n",
        "                tmp[i][j] = self.list[i][j] * k\n",
        "        return Matrix(tmp)\n",
        "\n",
        "#행렬의 곱셈\n",
        "    def mult(self, other):\n",
        "        if len(self.list[0]) == len(other.list):\n",
        "            x = len(self.list)\n",
        "            y = len(other.list[0])\n",
        "            answer = [[0] * x for _ in range(x)]\n",
        "            for i in range(x):\n",
        "                for j in range(y):\n",
        "                    for k in range(len(other.list)):\n",
        "                        answer[i][j] += self.list[i][k] * other.list[k][j]\n",
        "            return Matrix(answer)\n",
        "        else:\n",
        "            print(\"AssertionError\")\n",
        "\n",
        "\n",
        "\n",
        "a = Matrix([[1,2,3],[4,5,6]])\n",
        "b = Matrix([[2,2,2],[3,3,3]])\n",
        "\n",
        "c = Matrix([[1,2,3],[4,5,6]])\n",
        "d = Matrix([[1,2],[3,4],[5,6]])\n",
        "\n",
        "#e = Matrix([[1,2,3], [2,3,4]])\n",
        "#f = Matrix([[1,2],[3,4]])\n",
        "\n",
        "print(a+b)\n",
        "print(a-b)\n",
        "print(a * 3)\n",
        "print(3 * a)\n",
        "#print(e+f)\n",
        "print(Matrix.mult(c,d))"
      ],
      "execution_count": null,
      "outputs": []
    }
  ]
}